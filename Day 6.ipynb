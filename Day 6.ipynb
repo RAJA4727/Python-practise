{
 "cells": [
  {
   "cell_type": "code",
   "execution_count": 1,
   "id": "7e9212c9",
   "metadata": {},
   "outputs": [],
   "source": [
    "odd={1,3,5,7,9}\n",
    "even={2,4,6,8,10}\n",
    "prime={1,3,5,7}\n",
    "composite={1,2,4,6,9}"
   ]
  },
  {
   "cell_type": "code",
   "execution_count": 2,
   "id": "8f3ba3a9",
   "metadata": {},
   "outputs": [
    {
     "data": {
      "text/plain": [
       "{1, 2, 3, 4, 5, 6, 7, 8, 9, 10}"
      ]
     },
     "execution_count": 2,
     "metadata": {},
     "output_type": "execute_result"
    }
   ],
   "source": [
    "odd.union(even)"
   ]
  },
  {
   "cell_type": "code",
   "execution_count": 3,
   "id": "98fda894",
   "metadata": {},
   "outputs": [
    {
     "data": {
      "text/plain": [
       "{1, 2, 3, 4, 5, 6, 7, 8, 9, 10}"
      ]
     },
     "execution_count": 3,
     "metadata": {},
     "output_type": "execute_result"
    }
   ],
   "source": [
    "even.union(odd)"
   ]
  },
  {
   "cell_type": "code",
   "execution_count": 4,
   "id": "b09d813f",
   "metadata": {},
   "outputs": [
    {
     "data": {
      "text/plain": [
       "set()"
      ]
     },
     "execution_count": 4,
     "metadata": {},
     "output_type": "execute_result"
    }
   ],
   "source": [
    "odd.intersection(even)"
   ]
  },
  {
   "cell_type": "code",
   "execution_count": 5,
   "id": "6ee0c783",
   "metadata": {},
   "outputs": [
    {
     "data": {
      "text/plain": [
       "{1, 9}"
      ]
     },
     "execution_count": 5,
     "metadata": {},
     "output_type": "execute_result"
    }
   ],
   "source": [
    "odd.intersection(composite)"
   ]
  },
  {
   "cell_type": "code",
   "execution_count": 6,
   "id": "4a459e0b",
   "metadata": {},
   "outputs": [
    {
     "data": {
      "text/plain": [
       "{3, 5, 7}"
      ]
     },
     "execution_count": 6,
     "metadata": {},
     "output_type": "execute_result"
    }
   ],
   "source": [
    "odd.difference(composite)"
   ]
  },
  {
   "cell_type": "code",
   "execution_count": 7,
   "id": "1ffce11c",
   "metadata": {},
   "outputs": [
    {
     "data": {
      "text/plain": [
       "{2, 4, 6}"
      ]
     },
     "execution_count": 7,
     "metadata": {},
     "output_type": "execute_result"
    }
   ],
   "source": [
    "composite.difference(odd)"
   ]
  },
  {
   "cell_type": "code",
   "execution_count": 8,
   "id": "cf847044",
   "metadata": {},
   "outputs": [],
   "source": [
    "a={1,3,5,7,9}\n",
    "b={1,2,4,5,6,8,9}"
   ]
  },
  {
   "cell_type": "code",
   "execution_count": 9,
   "id": "6af5dc21",
   "metadata": {},
   "outputs": [
    {
     "data": {
      "text/plain": [
       "{3, 7}"
      ]
     },
     "execution_count": 9,
     "metadata": {},
     "output_type": "execute_result"
    }
   ],
   "source": [
    "a-b"
   ]
  },
  {
   "cell_type": "code",
   "execution_count": 10,
   "id": "f6bd4d53",
   "metadata": {},
   "outputs": [
    {
     "data": {
      "text/plain": [
       "{2, 4, 6, 8}"
      ]
     },
     "execution_count": 10,
     "metadata": {},
     "output_type": "execute_result"
    }
   ],
   "source": [
    "b-a"
   ]
  },
  {
   "cell_type": "code",
   "execution_count": 11,
   "id": "85d4c7b4",
   "metadata": {},
   "outputs": [
    {
     "data": {
      "text/plain": [
       "{1, 5, 9}"
      ]
     },
     "execution_count": 11,
     "metadata": {},
     "output_type": "execute_result"
    }
   ],
   "source": [
    "a&b"
   ]
  },
  {
   "cell_type": "code",
   "execution_count": 12,
   "id": "ba990548",
   "metadata": {},
   "outputs": [
    {
     "data": {
      "text/plain": [
       "True"
      ]
     },
     "execution_count": 12,
     "metadata": {},
     "output_type": "execute_result"
    }
   ],
   "source": [
    "a!=b"
   ]
  },
  {
   "cell_type": "code",
   "execution_count": 15,
   "id": "2360807b",
   "metadata": {},
   "outputs": [],
   "source": [
    "#To write that are not common between both the sets"
   ]
  },
  {
   "cell_type": "code",
   "execution_count": 13,
   "id": "bb30eabf",
   "metadata": {},
   "outputs": [
    {
     "data": {
      "text/plain": [
       "{2, 3, 4, 6, 7, 8}"
      ]
     },
     "execution_count": 13,
     "metadata": {},
     "output_type": "execute_result"
    }
   ],
   "source": [
    "a.symmetric_difference(b)"
   ]
  },
  {
   "cell_type": "code",
   "execution_count": 16,
   "id": "9409a048",
   "metadata": {},
   "outputs": [
    {
     "data": {
      "text/plain": [
       "{2, 3, 4, 6, 7, 8}"
      ]
     },
     "execution_count": 16,
     "metadata": {},
     "output_type": "execute_result"
    }
   ],
   "source": [
    "a^b"
   ]
  },
  {
   "cell_type": "code",
   "execution_count": 21,
   "id": "65202a1d",
   "metadata": {},
   "outputs": [],
   "source": [
    "#list to set conversion and vice versa"
   ]
  },
  {
   "cell_type": "code",
   "execution_count": 22,
   "id": "6ac1f819",
   "metadata": {},
   "outputs": [],
   "source": [
    "mydate=[1,2,3,3,4,5,6,6,7,8,8,9,9]"
   ]
  },
  {
   "cell_type": "code",
   "execution_count": 23,
   "id": "bd333393",
   "metadata": {},
   "outputs": [
    {
     "data": {
      "text/plain": [
       "{1, 2, 3, 4, 5, 6, 7, 8, 9}"
      ]
     },
     "execution_count": 23,
     "metadata": {},
     "output_type": "execute_result"
    }
   ],
   "source": [
    "set(mydate)"
   ]
  },
  {
   "cell_type": "code",
   "execution_count": 24,
   "id": "1cd2c7fb",
   "metadata": {},
   "outputs": [
    {
     "data": {
      "text/plain": [
       "[1, 2, 3, 4, 5, 6, 7, 8, 9]"
      ]
     },
     "execution_count": 24,
     "metadata": {},
     "output_type": "execute_result"
    }
   ],
   "source": [
    "list(set(mydate))"
   ]
  },
  {
   "cell_type": "code",
   "execution_count": 25,
   "id": "3ac6f765",
   "metadata": {},
   "outputs": [
    {
     "data": {
      "text/plain": [
       "'\\nImmutable\\nnumbers\\nstrings\\ntuple\\nMuable\\nlist\\nDictonary\\nset'"
      ]
     },
     "execution_count": 25,
     "metadata": {},
     "output_type": "execute_result"
    }
   ],
   "source": [
    "'''\n",
    "Immutable\n",
    "numbers\n",
    "strings\n",
    "tuple\n",
    "Muable\n",
    "list\n",
    "Dictonary\n",
    "set'''"
   ]
  },
  {
   "cell_type": "code",
   "execution_count": 26,
   "id": "552a6b59",
   "metadata": {},
   "outputs": [],
   "source": [
    "#list comphrension"
   ]
  },
  {
   "cell_type": "code",
   "execution_count": 28,
   "id": "37c2a1b2",
   "metadata": {},
   "outputs": [],
   "source": [
    "#Format-\n",
    "#[expr for x in collection/sequence]\n",
    "#[expr for x in collection/sequence if cond]\n",
    "#[expr for x in collection/sequence if cond1 &cond2]\n",
    "#[expr for x in collection/sequence for y in]"
   ]
  },
  {
   "cell_type": "code",
   "execution_count": 29,
   "id": "be36013e",
   "metadata": {},
   "outputs": [
    {
     "data": {
      "text/plain": [
       "[1, 2, 3, 4, 5, 6, 7, 8, 9, 10]"
      ]
     },
     "execution_count": 29,
     "metadata": {},
     "output_type": "execute_result"
    }
   ],
   "source": [
    "list(range(1,11))"
   ]
  },
  {
   "cell_type": "code",
   "execution_count": 30,
   "id": "6a900dd1",
   "metadata": {},
   "outputs": [
    {
     "data": {
      "text/plain": [
       "[1, 4, 9, 16, 25, 36, 49, 64, 81, 100]"
      ]
     },
     "execution_count": 30,
     "metadata": {},
     "output_type": "execute_result"
    }
   ],
   "source": [
    "[x**2 for x in range(1,11)]"
   ]
  },
  {
   "cell_type": "code",
   "execution_count": 31,
   "id": "6d8d2091",
   "metadata": {},
   "outputs": [
    {
     "data": {
      "text/plain": [
       "[1, 3, 5, 7, 9]"
      ]
     },
     "execution_count": 31,
     "metadata": {},
     "output_type": "execute_result"
    }
   ],
   "source": [
    "[x for x in range(1,11) if x%2==1]"
   ]
  },
  {
   "cell_type": "code",
   "execution_count": 34,
   "id": "688d1f03",
   "metadata": {},
   "outputs": [
    {
     "data": {
      "text/plain": [
       "[2, 4, 6, 8, 10]"
      ]
     },
     "execution_count": 34,
     "metadata": {},
     "output_type": "execute_result"
    }
   ],
   "source": [
    "[x for x in range(1,11) if x%2==0]"
   ]
  },
  {
   "cell_type": "code",
   "execution_count": 36,
   "id": "46bef2fb",
   "metadata": {},
   "outputs": [
    {
     "data": {
      "text/plain": [
       "[6, 8, 10]"
      ]
     },
     "execution_count": 36,
     "metadata": {},
     "output_type": "execute_result"
    }
   ],
   "source": [
    "[x for x in range(1,11) if x%2==0 and x>5]"
   ]
  },
  {
   "cell_type": "code",
   "execution_count": 37,
   "id": "042c46c2",
   "metadata": {},
   "outputs": [],
   "source": [
    "#Calc circle area=3.14*r**2"
   ]
  },
  {
   "cell_type": "code",
   "execution_count": 39,
   "id": "3048b0dc",
   "metadata": {},
   "outputs": [
    {
     "data": {
      "text/plain": [
       "[78.5, 113.04, 200.96, 254.34, 379.94, 452.16]"
      ]
     },
     "execution_count": 39,
     "metadata": {},
     "output_type": "execute_result"
    }
   ],
   "source": [
    "radius=[5,6,8,9,11,12]\n",
    "[3.14*r**2 for r in radius]"
   ]
  },
  {
   "cell_type": "code",
   "execution_count": 40,
   "id": "9139455f",
   "metadata": {},
   "outputs": [],
   "source": [
    "x=[1,2,3,4,5]\n",
    "y=[6,7,8,9,10]"
   ]
  },
  {
   "cell_type": "code",
   "execution_count": 41,
   "id": "cfdc92d3",
   "metadata": {},
   "outputs": [
    {
     "data": {
      "text/plain": [
       "[(1, 6),\n",
       " (1, 7),\n",
       " (1, 8),\n",
       " (1, 9),\n",
       " (1, 10),\n",
       " (2, 6),\n",
       " (2, 7),\n",
       " (2, 8),\n",
       " (2, 9),\n",
       " (2, 10),\n",
       " (3, 6),\n",
       " (3, 7),\n",
       " (3, 8),\n",
       " (3, 9),\n",
       " (3, 10),\n",
       " (4, 6),\n",
       " (4, 7),\n",
       " (4, 8),\n",
       " (4, 9),\n",
       " (4, 10),\n",
       " (5, 6),\n",
       " (5, 7),\n",
       " (5, 8),\n",
       " (5, 9),\n",
       " (5, 10)]"
      ]
     },
     "execution_count": 41,
     "metadata": {},
     "output_type": "execute_result"
    }
   ],
   "source": [
    "[(a,b) for a in x for b in y]"
   ]
  },
  {
   "cell_type": "code",
   "execution_count": 42,
   "id": "45931653",
   "metadata": {},
   "outputs": [],
   "source": [
    "x=[1,2,3,4,5]\n",
    "y=[6,7,8,9,10]\n",
    "r=[7,9,11,13,15]"
   ]
  },
  {
   "cell_type": "code",
   "execution_count": 43,
   "id": "c735b3aa",
   "metadata": {},
   "outputs": [
    {
     "data": {
      "text/plain": [
       "[7, 9, 11, 13, 15]"
      ]
     },
     "execution_count": 43,
     "metadata": {},
     "output_type": "execute_result"
    }
   ],
   "source": [
    "[a+b for a,b in zip(x,y)]"
   ]
  },
  {
   "cell_type": "code",
   "execution_count": 44,
   "id": "c8acbb32",
   "metadata": {},
   "outputs": [],
   "source": [
    "x=[1,2,3,4,5,5.5]\n",
    "y=[6,7,8,9,10]"
   ]
  },
  {
   "cell_type": "code",
   "execution_count": 45,
   "id": "5bf76e57",
   "metadata": {},
   "outputs": [
    {
     "data": {
      "text/plain": [
       "[7, 9, 11, 13, 15]"
      ]
     },
     "execution_count": 45,
     "metadata": {},
     "output_type": "execute_result"
    }
   ],
   "source": [
    "[a+b for a,b in zip(x,y)]"
   ]
  },
  {
   "cell_type": "code",
   "execution_count": 46,
   "id": "436354b3",
   "metadata": {},
   "outputs": [],
   "source": [
    "x=[1,2,3,4,5]\n",
    "y=[6,7,8,9,10]\n",
    "r=[7,9,11,13,15]"
   ]
  },
  {
   "cell_type": "code",
   "execution_count": 48,
   "id": "7f450cbf",
   "metadata": {},
   "outputs": [
    {
     "data": {
      "text/plain": [
       "[14, 18, 22, 26, 30]"
      ]
     },
     "execution_count": 48,
     "metadata": {},
     "output_type": "execute_result"
    }
   ],
   "source": [
    "[a+b+c for a,b,c in zip(x,y,r)]"
   ]
  },
  {
   "cell_type": "markdown",
   "id": "75ad13a6",
   "metadata": {},
   "source": [
    "# Function"
   ]
  },
  {
   "cell_type": "markdown",
   "id": "c6654b1b",
   "metadata": {},
   "source": [
    "# 1.Modularity\n",
    "2.Readability\n",
    "3.Redundancy"
   ]
  },
  {
   "cell_type": "code",
   "execution_count": 50,
   "id": "8ef1d5a6",
   "metadata": {},
   "outputs": [],
   "source": [
    "def add_nums(x,y):\n",
    " res=x+y\n",
    " return res\n",
    "        "
   ]
  },
  {
   "cell_type": "code",
   "execution_count": 51,
   "id": "d3f3fedc",
   "metadata": {},
   "outputs": [
    {
     "data": {
      "text/plain": [
       "30"
      ]
     },
     "execution_count": 51,
     "metadata": {},
     "output_type": "execute_result"
    }
   ],
   "source": [
    "add_nums(10,20)"
   ]
  },
  {
   "cell_type": "code",
   "execution_count": 53,
   "id": "59568fcb",
   "metadata": {},
   "outputs": [
    {
     "ename": "TypeError",
     "evalue": "add_nums() missing 1 required positional argument: 'y'",
     "output_type": "error",
     "traceback": [
      "\u001b[1;31m---------------------------------------------------------------------------\u001b[0m",
      "\u001b[1;31mTypeError\u001b[0m                                 Traceback (most recent call last)",
      "Input \u001b[1;32mIn [53]\u001b[0m, in \u001b[0;36m<cell line: 1>\u001b[1;34m()\u001b[0m\n\u001b[1;32m----> 1\u001b[0m \u001b[43madd_nums\u001b[49m\u001b[43m(\u001b[49m\u001b[38;5;241;43m10\u001b[39;49m\u001b[43m)\u001b[49m\n",
      "\u001b[1;31mTypeError\u001b[0m: add_nums() missing 1 required positional argument: 'y'"
     ]
    }
   ],
   "source": [
    "add_nums(10)"
   ]
  },
  {
   "cell_type": "code",
   "execution_count": 54,
   "id": "224aa4dd",
   "metadata": {},
   "outputs": [],
   "source": [
    "def add_nums(x,y=0):#default value\n",
    " res=x+y\n",
    " return res"
   ]
  },
  {
   "cell_type": "code",
   "execution_count": 55,
   "id": "9af22a1d",
   "metadata": {},
   "outputs": [
    {
     "data": {
      "text/plain": [
       "10"
      ]
     },
     "execution_count": 55,
     "metadata": {},
     "output_type": "execute_result"
    }
   ],
   "source": [
    "add_nums(10)"
   ]
  },
  {
   "cell_type": "code",
   "execution_count": 56,
   "id": "f82e5c8e",
   "metadata": {},
   "outputs": [
    {
     "data": {
      "text/plain": [
       "30"
      ]
     },
     "execution_count": 56,
     "metadata": {},
     "output_type": "execute_result"
    }
   ],
   "source": [
    "add_nums(10,20)"
   ]
  },
  {
   "cell_type": "code",
   "execution_count": 57,
   "id": "24ff0de7",
   "metadata": {},
   "outputs": [],
   "source": [
    "def add_nums(x=0,y=0):#default values\n",
    " res=x+y\n",
    " return res"
   ]
  },
  {
   "cell_type": "code",
   "execution_count": 58,
   "id": "49554f8d",
   "metadata": {},
   "outputs": [
    {
     "data": {
      "text/plain": [
       "0"
      ]
     },
     "execution_count": 58,
     "metadata": {},
     "output_type": "execute_result"
    }
   ],
   "source": [
    "add_nums()"
   ]
  },
  {
   "cell_type": "code",
   "execution_count": 59,
   "id": "f6227851",
   "metadata": {},
   "outputs": [
    {
     "ename": "TypeError",
     "evalue": "add_nums() takes from 0 to 2 positional arguments but 5 were given",
     "output_type": "error",
     "traceback": [
      "\u001b[1;31m---------------------------------------------------------------------------\u001b[0m",
      "\u001b[1;31mTypeError\u001b[0m                                 Traceback (most recent call last)",
      "Input \u001b[1;32mIn [59]\u001b[0m, in \u001b[0;36m<cell line: 1>\u001b[1;34m()\u001b[0m\n\u001b[1;32m----> 1\u001b[0m \u001b[43madd_nums\u001b[49m\u001b[43m(\u001b[49m\u001b[38;5;241;43m1\u001b[39;49m\u001b[43m,\u001b[49m\u001b[38;5;241;43m4\u001b[39;49m\u001b[43m,\u001b[49m\u001b[38;5;241;43m6\u001b[39;49m\u001b[43m,\u001b[49m\u001b[38;5;241;43m12\u001b[39;49m\u001b[43m,\u001b[49m\u001b[38;5;241;43m14\u001b[39;49m\u001b[43m)\u001b[49m\n",
      "\u001b[1;31mTypeError\u001b[0m: add_nums() takes from 0 to 2 positional arguments but 5 were given"
     ]
    }
   ],
   "source": [
    "add_nums(1,4,6,12,14)"
   ]
  },
  {
   "cell_type": "code",
   "execution_count": 65,
   "id": "9af70a1b",
   "metadata": {},
   "outputs": [],
   "source": [
    "def add_nums(x,y,*z):\n",
    "    print(\"type of x:{} and value is: {}\".format (type(x),x))\n",
    "    print(\"type of y:{} and value is: {}\".format (type(y),y))\n",
    "    print(\"type of z:{} and value is: {}\".format (type(z),z))"
   ]
  },
  {
   "cell_type": "code",
   "execution_count": 66,
   "id": "64983fa8",
   "metadata": {},
   "outputs": [
    {
     "name": "stdout",
     "output_type": "stream",
     "text": [
      "type of x:<class 'int'> and value is: 1\n",
      "type of y:<class 'int'> and value is: 3\n",
      "type of z:<class 'tuple'> and value is: (4, 5, 6, 7)\n"
     ]
    }
   ],
   "source": [
    "add_nums(1,3,4,5,6,7)"
   ]
  },
  {
   "cell_type": "code",
   "execution_count": 67,
   "id": "f1331626",
   "metadata": {},
   "outputs": [],
   "source": [
    "# * should be at the end of the arguent"
   ]
  },
  {
   "cell_type": "code",
   "execution_count": 69,
   "id": "f52a85d6",
   "metadata": {},
   "outputs": [],
   "source": [
    "def add_nums(x,y,*z):\n",
    "    res=x+y+sum(z)\n",
    "    return res"
   ]
  },
  {
   "cell_type": "code",
   "execution_count": 70,
   "id": "6d86c7ad",
   "metadata": {},
   "outputs": [
    {
     "data": {
      "text/plain": [
       "36"
      ]
     },
     "execution_count": 70,
     "metadata": {},
     "output_type": "execute_result"
    }
   ],
   "source": [
    "add_nums(1,3,5,7,20)"
   ]
  },
  {
   "cell_type": "code",
   "execution_count": 71,
   "id": "57e81557",
   "metadata": {},
   "outputs": [],
   "source": [
    "def add_nums(x,y=0,*z):\n",
    "    res=x+y+sum(z)\n",
    "    return res"
   ]
  },
  {
   "cell_type": "code",
   "execution_count": 72,
   "id": "fb2b1a6a",
   "metadata": {},
   "outputs": [
    {
     "data": {
      "text/plain": [
       "10"
      ]
     },
     "execution_count": 72,
     "metadata": {},
     "output_type": "execute_result"
    }
   ],
   "source": [
    "add_nums(10)"
   ]
  },
  {
   "cell_type": "code",
   "execution_count": 73,
   "id": "8dce62fc",
   "metadata": {},
   "outputs": [
    {
     "data": {
      "text/plain": [
       "30"
      ]
     },
     "execution_count": 73,
     "metadata": {},
     "output_type": "execute_result"
    }
   ],
   "source": [
    "add_nums(10,20)"
   ]
  },
  {
   "cell_type": "code",
   "execution_count": 74,
   "id": "2920808d",
   "metadata": {},
   "outputs": [
    {
     "data": {
      "text/plain": [
       "90"
      ]
     },
     "execution_count": 74,
     "metadata": {},
     "output_type": "execute_result"
    }
   ],
   "source": [
    "add_nums(10,24,56)"
   ]
  },
  {
   "cell_type": "code",
   "execution_count": 75,
   "id": "8e465ef3",
   "metadata": {},
   "outputs": [
    {
     "data": {
      "text/plain": [
       "116"
      ]
     },
     "execution_count": 75,
     "metadata": {},
     "output_type": "execute_result"
    }
   ],
   "source": [
    "add_nums(10,2,3,45,56)"
   ]
  },
  {
   "cell_type": "code",
   "execution_count": 80,
   "id": "de36c735",
   "metadata": {},
   "outputs": [],
   "source": [
    "def myfun(x,y,*z,**k):\n",
    "    print(\"x:{},y:{},z:{},k:{}\".format(x,y,z,k))"
   ]
  },
  {
   "cell_type": "code",
   "execution_count": 81,
   "id": "2203002f",
   "metadata": {},
   "outputs": [
    {
     "name": "stdout",
     "output_type": "stream",
     "text": [
      "x:1,y:2,z:(3,),k:{'name': 'Raja', 'city': 'chennai', 'tech': 'python'}\n"
     ]
    }
   ],
   "source": [
    "myfun(1,2,3,name='Raja',city=\"chennai\",tech=\"python\")"
   ]
  },
  {
   "cell_type": "code",
   "execution_count": null,
   "id": "82b0bf8b",
   "metadata": {},
   "outputs": [],
   "source": []
  }
 ],
 "metadata": {
  "kernelspec": {
   "display_name": "Python 3 (ipykernel)",
   "language": "python",
   "name": "python3"
  },
  "language_info": {
   "codemirror_mode": {
    "name": "ipython",
    "version": 3
   },
   "file_extension": ".py",
   "mimetype": "text/x-python",
   "name": "python",
   "nbconvert_exporter": "python",
   "pygments_lexer": "ipython3",
   "version": "3.9.2"
  }
 },
 "nbformat": 4,
 "nbformat_minor": 5
}

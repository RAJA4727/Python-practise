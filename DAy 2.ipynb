{
 "cells": [
  {
   "cell_type": "code",
   "execution_count": null,
   "id": "96aa1668",
   "metadata": {},
   "outputs": [],
   "source": [
    "5+6 #Run creates new shell after execution"
   ]
  },
  {
   "cell_type": "code",
   "execution_count": null,
   "id": "c2ed4c8e",
   "metadata": {},
   "outputs": [],
   "source": [
    "5*9 # shift + enter creates new shell after execution"
   ]
  },
  {
   "cell_type": "code",
   "execution_count": null,
   "id": "026c44d3",
   "metadata": {},
   "outputs": [],
   "source": [
    "8-9# ctlr + enter"
   ]
  },
  {
   "cell_type": "markdown",
   "id": "5ab3832e",
   "metadata": {},
   "source": [
    "# Comment"
   ]
  },
  {
   "cell_type": "code",
   "execution_count": null,
   "id": "c530f999",
   "metadata": {},
   "outputs": [],
   "source": [
    "# Single line comment\n",
    "\n",
    "# adding 2 nos\n",
    "\n",
    "5+2"
   ]
  },
  {
   "cell_type": "code",
   "execution_count": null,
   "id": "aeb56812",
   "metadata": {},
   "outputs": [],
   "source": [
    "#Multi line comments\n",
    "\n",
    "# '''\n",
    "# line 1\n",
    "# line 2\n",
    "# line 3\n",
    "# line 4\n",
    "# '''"
   ]
  },
  {
   "cell_type": "code",
   "execution_count": null,
   "id": "657430ee",
   "metadata": {},
   "outputs": [],
   "source": [
    "'''\n",
    "'\n",
    "\"\n",
    "'''"
   ]
  },
  {
   "cell_type": "code",
   "execution_count": null,
   "id": "dc622835",
   "metadata": {},
   "outputs": [],
   "source": [
    "name ='Raja'"
   ]
  },
  {
   "cell_type": "code",
   "execution_count": null,
   "id": "e238d4e4",
   "metadata": {},
   "outputs": [],
   "source": [
    "print(name)"
   ]
  },
  {
   "cell_type": "code",
   "execution_count": null,
   "id": "0f342fff",
   "metadata": {},
   "outputs": [],
   "source": [
    "name =\"Raja\""
   ]
  },
  {
   "cell_type": "code",
   "execution_count": null,
   "id": "96cf292c",
   "metadata": {},
   "outputs": [],
   "source": [
    "print(name)"
   ]
  },
  {
   "cell_type": "code",
   "execution_count": null,
   "id": "a227fc41",
   "metadata": {},
   "outputs": [],
   "source": [
    "clg=st's John'"
   ]
  },
  {
   "cell_type": "code",
   "execution_count": null,
   "id": "cf84b5e7",
   "metadata": {},
   "outputs": [],
   "source": [
    "clg=\"st's John\""
   ]
  },
  {
   "cell_type": "code",
   "execution_count": null,
   "id": "10a20604",
   "metadata": {},
   "outputs": [],
   "source": [
    "print(clg)"
   ]
  },
  {
   "cell_type": "code",
   "execution_count": null,
   "id": "9c162384",
   "metadata": {},
   "outputs": [],
   "source": [
    "clg='st\\'s John'"
   ]
  },
  {
   "cell_type": "code",
   "execution_count": null,
   "id": "6490949c",
   "metadata": {},
   "outputs": [],
   "source": [
    "print(clg)"
   ]
  },
  {
   "cell_type": "code",
   "execution_count": null,
   "id": "6fdf330d",
   "metadata": {},
   "outputs": [],
   "source": [
    "about='''Raja is working in Molex.He is working as as Product specialist and he also handle so many projects currently.\n",
    "he '''"
   ]
  },
  {
   "cell_type": "code",
   "execution_count": null,
   "id": "6624ca26",
   "metadata": {},
   "outputs": [],
   "source": [
    "print(about)"
   ]
  },
  {
   "cell_type": "markdown",
   "id": "e7d63592",
   "metadata": {},
   "source": [
    "# control statements"
   ]
  },
  {
   "cell_type": "code",
   "execution_count": null,
   "id": "2d94d08c",
   "metadata": {},
   "outputs": [],
   "source": [
    "if cond\n",
    " statement\n",
    "else\n",
    " statement"
   ]
  },
  {
   "cell_type": "code",
   "execution_count": null,
   "id": "775c8ee2",
   "metadata": {},
   "outputs": [],
   "source": [
    "x=0"
   ]
  },
  {
   "cell_type": "code",
   "execution_count": null,
   "id": "fcc8b5c5",
   "metadata": {},
   "outputs": [],
   "source": [
    "if x>20:\n",
    "    print(\"U can vote\")\n",
    "elif x<0 or x>100:\n",
    "    print(\"Invalid\")\n",
    "elif x==0:\n",
    "    print(\"U r just born\")\n",
    "else:\n",
    "    print(\"U cannot vote\")\n"
   ]
  },
  {
   "cell_type": "code",
   "execution_count": null,
   "id": "4891687e",
   "metadata": {},
   "outputs": [],
   "source": [
    "age=28\n",
    "country=\"singapore\""
   ]
  },
  {
   "cell_type": "code",
   "execution_count": null,
   "id": "6818e390",
   "metadata": {},
   "outputs": [],
   "source": [
    "if country=='India':\n",
    "    if age>18:\n",
    "        print(\"you can vote\")\n",
    "    else:\n",
    "        print(\"You cannot vote\")\n",
    "else:\n",
    "  print(\"follow ur country:{}std\".format(country))"
   ]
  },
  {
   "cell_type": "code",
   "execution_count": null,
   "id": "30917b8d",
   "metadata": {},
   "outputs": [],
   "source": [
    "### Multiple if"
   ]
  },
  {
   "cell_type": "code",
   "execution_count": null,
   "id": "9f305312",
   "metadata": {},
   "outputs": [],
   "source": [
    "if age>18:\n",
    "    print(age)\n",
    "if age==28:\n",
    "    print(\"executed another if\")"
   ]
  },
  {
   "cell_type": "markdown",
   "id": "51912d6e",
   "metadata": {},
   "source": [
    "# Day 2"
   ]
  },
  {
   "cell_type": "code",
   "execution_count": null,
   "id": "d01d8797",
   "metadata": {},
   "outputs": [],
   "source": [
    "print(\"Hello World\")"
   ]
  },
  {
   "cell_type": "code",
   "execution_count": null,
   "id": "77bd3824",
   "metadata": {},
   "outputs": [],
   "source": [
    "name=\"Raja\""
   ]
  },
  {
   "cell_type": "code",
   "execution_count": null,
   "id": "185bf080",
   "metadata": {},
   "outputs": [],
   "source": [
    "print (\"the name is\",name)"
   ]
  },
  {
   "cell_type": "markdown",
   "id": "09d0b80b",
   "metadata": {},
   "source": [
    "# Different methods to print "
   ]
  },
  {
   "cell_type": "code",
   "execution_count": null,
   "id": "452031cc",
   "metadata": {},
   "outputs": [],
   "source": [
    "name=\"Raja\"\n",
    "age=27\n",
    "\n",
    "#To print the name of RAja\n",
    "\n",
    "print(\"The name is\",name ,\"and his age is\",age)"
   ]
  },
  {
   "cell_type": "code",
   "execution_count": null,
   "id": "f3bf1197",
   "metadata": {},
   "outputs": [],
   "source": [
    "print(\"The name is {} and his age is {}\".format(name,age))"
   ]
  },
  {
   "cell_type": "code",
   "execution_count": null,
   "id": "11f09219",
   "metadata": {},
   "outputs": [],
   "source": [
    "print(\"The name is {name} and his age is {27}\")"
   ]
  },
  {
   "cell_type": "code",
   "execution_count": null,
   "id": "b315353c",
   "metadata": {},
   "outputs": [],
   "source": [
    "print(f\"The name is {name} and his age is {27}\")"
   ]
  },
  {
   "cell_type": "code",
   "execution_count": null,
   "id": "c285e760",
   "metadata": {},
   "outputs": [],
   "source": [
    "price=8.9876"
   ]
  },
  {
   "cell_type": "code",
   "execution_count": null,
   "id": "ff32404e",
   "metadata": {},
   "outputs": [],
   "source": [
    "round(price,2)"
   ]
  },
  {
   "cell_type": "code",
   "execution_count": null,
   "id": "ff7919c4",
   "metadata": {},
   "outputs": [],
   "source": [
    "print(\"the price is {}\".format(round(price,2)))"
   ]
  },
  {
   "cell_type": "markdown",
   "id": "e420cc6e",
   "metadata": {},
   "source": [
    "# input function"
   ]
  },
  {
   "cell_type": "code",
   "execution_count": null,
   "id": "c7134443",
   "metadata": {},
   "outputs": [],
   "source": [
    "name=input(\"Enter your name \")\n",
    "age=input(\"Enter your age\")"
   ]
  },
  {
   "cell_type": "code",
   "execution_count": null,
   "id": "d36524a5",
   "metadata": {},
   "outputs": [],
   "source": [
    "print(type(name))"
   ]
  },
  {
   "cell_type": "code",
   "execution_count": null,
   "id": "91df654a",
   "metadata": {},
   "outputs": [],
   "source": [
    "print(type(age))"
   ]
  },
  {
   "cell_type": "code",
   "execution_count": null,
   "id": "69e4859d",
   "metadata": {},
   "outputs": [],
   "source": [
    "name=input(\"Enter your name \")\n",
    "age=int(input(\"Enter your age\"))\n",
    "age=age+1"
   ]
  },
  {
   "cell_type": "code",
   "execution_count": null,
   "id": "7bebb381",
   "metadata": {},
   "outputs": [],
   "source": [
    "print(type(name))\n",
    "print(type(age))\n",
    "print(\"The age is\",age)"
   ]
  },
  {
   "cell_type": "markdown",
   "id": "eb7c38c2",
   "metadata": {},
   "source": [
    "# Range function"
   ]
  },
  {
   "cell_type": "code",
   "execution_count": null,
   "id": "118d744c",
   "metadata": {},
   "outputs": [],
   "source": [
    "for x in range(1,101):\n",
    "    print(x,end=' ')"
   ]
  },
  {
   "cell_type": "code",
   "execution_count": null,
   "id": "fdeb031d",
   "metadata": {},
   "outputs": [],
   "source": [
    "for x in range(1,101,2):\n",
    "    print(x,end=' ')"
   ]
  },
  {
   "cell_type": "code",
   "execution_count": null,
   "id": "3fec5af6",
   "metadata": {},
   "outputs": [],
   "source": [
    "for x in range(2,101,2):\n",
    "    print(x,end=' ')"
   ]
  },
  {
   "cell_type": "markdown",
   "id": "3b0e381e",
   "metadata": {},
   "source": [
    "# Loop\n",
    "\n",
    "'''\n",
    "for\n",
    "while'''"
   ]
  },
  {
   "cell_type": "code",
   "execution_count": null,
   "id": "1540091d",
   "metadata": {},
   "outputs": [],
   "source": [
    "#  while<cond>:\n",
    "#     statement\n"
   ]
  },
  {
   "cell_type": "code",
   "execution_count": null,
   "id": "7fe3272a",
   "metadata": {},
   "outputs": [],
   "source": [
    "x=1\n",
    "\n",
    "while x<=10:\n",
    "    print(x)\n",
    "    x=x+1"
   ]
  },
  {
   "cell_type": "code",
   "execution_count": null,
   "id": "70372d12",
   "metadata": {},
   "outputs": [],
   "source": [
    "l=['Raja','Business Analyst',27,\"github\"]"
   ]
  },
  {
   "cell_type": "code",
   "execution_count": null,
   "id": "eefcf7ef",
   "metadata": {},
   "outputs": [],
   "source": [
    "for x in l:\n",
    "    print(x)"
   ]
  },
  {
   "cell_type": "code",
   "execution_count": null,
   "id": "ea3bab60",
   "metadata": {},
   "outputs": [],
   "source": [
    "for x in l:\n",
    "    print(x,end=' ')"
   ]
  },
  {
   "cell_type": "code",
   "execution_count": null,
   "id": "147e0ec3",
   "metadata": {},
   "outputs": [],
   "source": [
    "x=15\n",
    "\n",
    "for i in range(1,11):\n",
    "    print (i,end= ' ')\n",
    "    i=i+1"
   ]
  },
  {
   "cell_type": "markdown",
   "id": "dfd99314",
   "metadata": {},
   "source": [
    "# Flow control statement"
   ]
  },
  {
   "cell_type": "code",
   "execution_count": null,
   "id": "427cd8ec",
   "metadata": {},
   "outputs": [],
   "source": [
    "# break\n",
    "# continue"
   ]
  },
  {
   "cell_type": "code",
   "execution_count": null,
   "id": "9626cb32",
   "metadata": {},
   "outputs": [],
   "source": [
    "x=1\n",
    "\n",
    "while x<=10:\n",
    "    print(x)\n",
    "    x=x+1"
   ]
  },
  {
   "cell_type": "code",
   "execution_count": 3,
   "id": "2106a4f2",
   "metadata": {},
   "outputs": [
    {
     "name": "stdout",
     "output_type": "stream",
     "text": [
      "1\n",
      "2\n",
      "3\n",
      "4\n",
      "This is the next line\n"
     ]
    }
   ],
   "source": [
    "x=1\n",
    "\n",
    "while x<=10:\n",
    "    if x==5:\n",
    "        break\n",
    "    print(x)\n",
    "    x=x+1\n",
    "print(\"This is the next line\")"
   ]
  },
  {
   "cell_type": "code",
   "execution_count": 4,
   "id": "ccaf4a12",
   "metadata": {},
   "outputs": [
    {
     "name": "stdout",
     "output_type": "stream",
     "text": [
      "1\n",
      "2\n",
      "3\n",
      "4\n"
     ]
    },
    {
     "ename": "KeyboardInterrupt",
     "evalue": "",
     "output_type": "error",
     "traceback": [
      "\u001b[1;31m---------------------------------------------------------------------------\u001b[0m",
      "\u001b[1;31mKeyboardInterrupt\u001b[0m                         Traceback (most recent call last)",
      "Input \u001b[1;32mIn [4]\u001b[0m, in \u001b[0;36m<cell line: 2>\u001b[1;34m()\u001b[0m\n\u001b[0;32m      1\u001b[0m x\u001b[38;5;241m=\u001b[39m\u001b[38;5;241m1\u001b[39m\n\u001b[0;32m      2\u001b[0m \u001b[38;5;28;01mwhile\u001b[39;00m x\u001b[38;5;241m<\u001b[39m\u001b[38;5;241m=\u001b[39m\u001b[38;5;241m10\u001b[39m:\n\u001b[1;32m----> 3\u001b[0m     \u001b[38;5;28;01mif\u001b[39;00m \u001b[43mx\u001b[49m\u001b[38;5;241m==\u001b[39m\u001b[38;5;241m5\u001b[39m:\n\u001b[0;32m      4\u001b[0m         \u001b[38;5;28;01mcontinue\u001b[39;00m\n\u001b[0;32m      5\u001b[0m     \u001b[38;5;28mprint\u001b[39m(x)\n",
      "\u001b[1;31mKeyboardInterrupt\u001b[0m: "
     ]
    }
   ],
   "source": [
    "x=1\n",
    "while x<=10:\n",
    "    if x==5:\n",
    "        continue\n",
    "    print(x)\n",
    "    x=x+1\n",
    "print(\"This is the next line\")"
   ]
  },
  {
   "cell_type": "code",
   "execution_count": 2,
   "id": "ece8cce9",
   "metadata": {},
   "outputs": [
    {
     "name": "stdout",
     "output_type": "stream",
     "text": [
      "1\n",
      "2\n",
      "3\n",
      "4\n",
      "6\n",
      "7\n",
      "8\n",
      "9\n",
      "10\n",
      "11\n",
      "This is the next line\n"
     ]
    }
   ],
   "source": [
    "x=0\n",
    "while x<=10:\n",
    "    x=x+1\n",
    "    if x==5:\n",
    "        continue\n",
    "    print(x)   \n",
    "print(\"This is the next line\")"
   ]
  },
  {
   "cell_type": "markdown",
   "id": "91990673",
   "metadata": {},
   "source": [
    "# Data Structure"
   ]
  },
  {
   "cell_type": "code",
   "execution_count": 5,
   "id": "bf99fbaf",
   "metadata": {},
   "outputs": [
    {
     "data": {
      "text/plain": [
       "'\\nImmutable\\nNumbers\\nstring \\ntuple\\n\\nMutable\\nlist\\ndictionary\\nset\\n'"
      ]
     },
     "execution_count": 5,
     "metadata": {},
     "output_type": "execute_result"
    }
   ],
   "source": [
    "'''\n",
    "Immutable\n",
    "Numbers\n",
    "string \n",
    "tuple\n",
    "\n",
    "Mutable\n",
    "list\n",
    "dictionary\n",
    "set\n",
    "'''"
   ]
  },
  {
   "cell_type": "code",
   "execution_count": 6,
   "id": "ea674bb7",
   "metadata": {},
   "outputs": [
    {
     "data": {
      "text/plain": [
       "'\\nArithmetic operator\\nAssignment operator\\nComparison\\nBitwise\\nBinary\\nIdentity\\nMembership'"
      ]
     },
     "execution_count": 6,
     "metadata": {},
     "output_type": "execute_result"
    }
   ],
   "source": [
    "#Numbers\n",
    "'''\n",
    "Arithmetic operator\n",
    "Assignment operator\n",
    "Comparison\n",
    "Bitwise\n",
    "Binary\n",
    "Identity\n",
    "Membership'''"
   ]
  },
  {
   "cell_type": "code",
   "execution_count": 7,
   "id": "464ded00",
   "metadata": {},
   "outputs": [
    {
     "data": {
      "text/plain": [
       "'\\naddition+\\nsubraction-\\nMultiplication*\\nDivison/\\nexponent*\\nmodulus%\\nFloor division//\\n\\n'"
      ]
     },
     "execution_count": 7,
     "metadata": {},
     "output_type": "execute_result"
    }
   ],
   "source": [
    "#Arithmetic operator\n",
    "'''\n",
    "addition+\n",
    "subraction-\n",
    "Multiplication*\n",
    "Divison/\n",
    "exponent*\n",
    "modulus%\n",
    "Floor division//\n",
    "\n",
    "'''"
   ]
  },
  {
   "cell_type": "code",
   "execution_count": 8,
   "id": "21f317f1",
   "metadata": {},
   "outputs": [
    {
     "data": {
      "text/plain": [
       "11"
      ]
     },
     "execution_count": 8,
     "metadata": {},
     "output_type": "execute_result"
    }
   ],
   "source": [
    "5+6"
   ]
  },
  {
   "cell_type": "code",
   "execution_count": 9,
   "id": "9d48dfe3",
   "metadata": {},
   "outputs": [
    {
     "data": {
      "text/plain": [
       "-1"
      ]
     },
     "execution_count": 9,
     "metadata": {},
     "output_type": "execute_result"
    }
   ],
   "source": [
    "5-6"
   ]
  },
  {
   "cell_type": "code",
   "execution_count": 10,
   "id": "92dcb013",
   "metadata": {},
   "outputs": [
    {
     "data": {
      "text/plain": [
       "30"
      ]
     },
     "execution_count": 10,
     "metadata": {},
     "output_type": "execute_result"
    }
   ],
   "source": [
    "5*6"
   ]
  },
  {
   "cell_type": "code",
   "execution_count": 15,
   "id": "b5351678",
   "metadata": {},
   "outputs": [
    {
     "data": {
      "text/plain": [
       "5.5"
      ]
     },
     "execution_count": 15,
     "metadata": {},
     "output_type": "execute_result"
    }
   ],
   "source": [
    "11/2"
   ]
  },
  {
   "cell_type": "code",
   "execution_count": 16,
   "id": "8a9ae131",
   "metadata": {},
   "outputs": [
    {
     "data": {
      "text/plain": [
       "8"
      ]
     },
     "execution_count": 16,
     "metadata": {},
     "output_type": "execute_result"
    }
   ],
   "source": [
    "2**3"
   ]
  },
  {
   "cell_type": "code",
   "execution_count": 17,
   "id": "944835bb",
   "metadata": {},
   "outputs": [
    {
     "data": {
      "text/plain": [
       "1"
      ]
     },
     "execution_count": 17,
     "metadata": {},
     "output_type": "execute_result"
    }
   ],
   "source": [
    "11%2"
   ]
  },
  {
   "cell_type": "code",
   "execution_count": 18,
   "id": "010f4e74",
   "metadata": {},
   "outputs": [
    {
     "data": {
      "text/plain": [
       "5"
      ]
     },
     "execution_count": 18,
     "metadata": {},
     "output_type": "execute_result"
    }
   ],
   "source": [
    "11//2"
   ]
  },
  {
   "cell_type": "code",
   "execution_count": 19,
   "id": "00a0e5fc",
   "metadata": {},
   "outputs": [
    {
     "data": {
      "text/plain": [
       "True"
      ]
     },
     "execution_count": 19,
     "metadata": {},
     "output_type": "execute_result"
    }
   ],
   "source": [
    "#Comparison\n",
    "\n",
    "x=10\n",
    "\n",
    "x==10"
   ]
  },
  {
   "cell_type": "code",
   "execution_count": 20,
   "id": "f1b2c510",
   "metadata": {},
   "outputs": [
    {
     "data": {
      "text/plain": [
       "False"
      ]
     },
     "execution_count": 20,
     "metadata": {},
     "output_type": "execute_result"
    }
   ],
   "source": [
    "x>100"
   ]
  },
  {
   "cell_type": "code",
   "execution_count": 21,
   "id": "b7f804e5",
   "metadata": {},
   "outputs": [
    {
     "data": {
      "text/plain": [
       "True"
      ]
     },
     "execution_count": 21,
     "metadata": {},
     "output_type": "execute_result"
    }
   ],
   "source": [
    "x!=0"
   ]
  },
  {
   "cell_type": "code",
   "execution_count": null,
   "id": "451f08ea",
   "metadata": {},
   "outputs": [],
   "source": []
  }
 ],
 "metadata": {
  "kernelspec": {
   "display_name": "Python 3 (ipykernel)",
   "language": "python",
   "name": "python3"
  },
  "language_info": {
   "codemirror_mode": {
    "name": "ipython",
    "version": 3
   },
   "file_extension": ".py",
   "mimetype": "text/x-python",
   "name": "python",
   "nbconvert_exporter": "python",
   "pygments_lexer": "ipython3",
   "version": "3.9.2"
  }
 },
 "nbformat": 4,
 "nbformat_minor": 5
}

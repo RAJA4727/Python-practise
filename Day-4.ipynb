{
 "cells": [
  {
   "cell_type": "code",
   "execution_count": 1,
   "id": "d3c206b8",
   "metadata": {},
   "outputs": [],
   "source": [
    "#Replacement and translate"
   ]
  },
  {
   "cell_type": "code",
   "execution_count": 4,
   "id": "0473b932",
   "metadata": {},
   "outputs": [],
   "source": [
    "data=\"The covid cases are high in India but reported as very less or none\""
   ]
  },
  {
   "cell_type": "code",
   "execution_count": 6,
   "id": "ecb7edac",
   "metadata": {},
   "outputs": [
    {
     "data": {
      "text/plain": [
       "'The covid cases are high in India but reported as very high or more'"
      ]
     },
     "execution_count": 6,
     "metadata": {},
     "output_type": "execute_result"
    }
   ],
   "source": [
    "data.replace('less','high').replace('none','more')"
   ]
  },
  {
   "cell_type": "code",
   "execution_count": 9,
   "id": "2a924e59",
   "metadata": {},
   "outputs": [],
   "source": [
    "date=\"The covid cases are high in India but India reported as very less or none\""
   ]
  },
  {
   "cell_type": "code",
   "execution_count": 10,
   "id": "163e3485",
   "metadata": {},
   "outputs": [
    {
     "data": {
      "text/plain": [
       "'The covid cases are high in USA but USA reported as very less or none'"
      ]
     },
     "execution_count": 10,
     "metadata": {},
     "output_type": "execute_result"
    }
   ],
   "source": [
    "date.replace('India','USA',2)"
   ]
  },
  {
   "cell_type": "code",
   "execution_count": 11,
   "id": "2c3a2bef",
   "metadata": {},
   "outputs": [],
   "source": [
    "company=\"W#a$l%m@a*r%t\""
   ]
  },
  {
   "cell_type": "code",
   "execution_count": 13,
   "id": "47a064d2",
   "metadata": {},
   "outputs": [
    {
     "data": {
      "text/plain": [
       "'Walma*rt'"
      ]
     },
     "execution_count": 13,
     "metadata": {},
     "output_type": "execute_result"
    }
   ],
   "source": [
    "company.replace('#','').replace(\"$\",'').replace(\"%\",'').replace('@','')"
   ]
  },
  {
   "cell_type": "code",
   "execution_count": 14,
   "id": "16221ee6",
   "metadata": {},
   "outputs": [],
   "source": [
    "#translate"
   ]
  },
  {
   "cell_type": "code",
   "execution_count": 27,
   "id": "21ff425f",
   "metadata": {},
   "outputs": [
    {
     "data": {
      "text/plain": [
       "42"
      ]
     },
     "execution_count": 27,
     "metadata": {},
     "output_type": "execute_result"
    }
   ],
   "source": [
    "ord('*')"
   ]
  },
  {
   "cell_type": "code",
   "execution_count": 28,
   "id": "941e1630",
   "metadata": {},
   "outputs": [
    {
     "data": {
      "text/plain": [
       "'Walmart'"
      ]
     },
     "execution_count": 28,
     "metadata": {},
     "output_type": "execute_result"
    }
   ],
   "source": [
    "company.translate({35:None,36:None,37:None,64:None,42:None})"
   ]
  },
  {
   "cell_type": "code",
   "execution_count": 29,
   "id": "d512258d",
   "metadata": {},
   "outputs": [
    {
     "data": {
      "text/plain": [
       "{35: 32, 36: 32, 37: 32, 64: 32, 42: 32}"
      ]
     },
     "execution_count": 29,
     "metadata": {},
     "output_type": "execute_result"
    }
   ],
   "source": [
    "company.maketrans('#$%@*','     ')"
   ]
  },
  {
   "cell_type": "code",
   "execution_count": 30,
   "id": "01926517",
   "metadata": {},
   "outputs": [
    {
     "data": {
      "text/plain": [
       "'Walmart'"
      ]
     },
     "execution_count": 30,
     "metadata": {},
     "output_type": "execute_result"
    }
   ],
   "source": [
    "company.translate({35:None,36:None,37:None,64:None,42:None})"
   ]
  },
  {
   "cell_type": "code",
   "execution_count": 31,
   "id": "d675e9bf",
   "metadata": {},
   "outputs": [],
   "source": [
    "chg=data.maketrans('abcde','ABCDE')"
   ]
  },
  {
   "cell_type": "code",
   "execution_count": 32,
   "id": "53f7bc00",
   "metadata": {},
   "outputs": [
    {
     "data": {
      "text/plain": [
       "'ThE CoviD CAsEs ArE high in InDiA But rEportED As vEry lEss or nonE'"
      ]
     },
     "execution_count": 32,
     "metadata": {},
     "output_type": "execute_result"
    }
   ],
   "source": [
    "data.translate(chg)"
   ]
  },
  {
   "cell_type": "code",
   "execution_count": 34,
   "id": "a66ae114",
   "metadata": {},
   "outputs": [],
   "source": [
    "x=data.maketrans('india','china')"
   ]
  },
  {
   "cell_type": "code",
   "execution_count": 36,
   "id": "bac3989f",
   "metadata": {},
   "outputs": [
    {
     "data": {
      "text/plain": [
       "'The covni cases are hngh nh Ihina but reportei as very less or hohe'"
      ]
     },
     "execution_count": 36,
     "metadata": {},
     "output_type": "execute_result"
    }
   ],
   "source": [
    "data.translate(x)"
   ]
  },
  {
   "cell_type": "code",
   "execution_count": 37,
   "id": "ebca54a3",
   "metadata": {},
   "outputs": [],
   "source": [
    "#values replaced later are added"
   ]
  },
  {
   "cell_type": "code",
   "execution_count": 38,
   "id": "4a4faa99",
   "metadata": {},
   "outputs": [],
   "source": [
    "#list(Mutable Object)"
   ]
  },
  {
   "cell_type": "code",
   "execution_count": 39,
   "id": "dfad3a67",
   "metadata": {},
   "outputs": [],
   "source": [
    "#collection of Heterogenuos elements-List"
   ]
  },
  {
   "cell_type": "markdown",
   "id": "b7371b87",
   "metadata": {},
   "source": [
    "# list(Mutable Object)"
   ]
  },
  {
   "cell_type": "code",
   "execution_count": 41,
   "id": "4a5aac2d",
   "metadata": {},
   "outputs": [],
   "source": [
    "#creating a list-3 ways\n",
    "\n",
    "mylist=[]"
   ]
  },
  {
   "cell_type": "code",
   "execution_count": 42,
   "id": "6dee95d5",
   "metadata": {},
   "outputs": [
    {
     "data": {
      "text/plain": [
       "list"
      ]
     },
     "execution_count": 42,
     "metadata": {},
     "output_type": "execute_result"
    }
   ],
   "source": [
    "type(mylist)"
   ]
  },
  {
   "cell_type": "code",
   "execution_count": 47,
   "id": "f915468b",
   "metadata": {},
   "outputs": [],
   "source": [
    "#Type 2list comprehension"
   ]
  },
  {
   "cell_type": "code",
   "execution_count": 48,
   "id": "e44fd01f",
   "metadata": {},
   "outputs": [],
   "source": [
    "list2=list()"
   ]
  },
  {
   "cell_type": "code",
   "execution_count": 49,
   "id": "8e55e5e1",
   "metadata": {},
   "outputs": [
    {
     "data": {
      "text/plain": [
       "list"
      ]
     },
     "execution_count": 49,
     "metadata": {},
     "output_type": "execute_result"
    }
   ],
   "source": [
    "type(list2)"
   ]
  },
  {
   "cell_type": "code",
   "execution_count": 51,
   "id": "11deda89",
   "metadata": {},
   "outputs": [],
   "source": [
    "#Type 3"
   ]
  },
  {
   "cell_type": "code",
   "execution_count": 54,
   "id": "1b02ab4c",
   "metadata": {},
   "outputs": [],
   "source": [
    "info=['python',10.5,False,44.5]"
   ]
  },
  {
   "cell_type": "code",
   "execution_count": 56,
   "id": "d5d3735d",
   "metadata": {},
   "outputs": [
    {
     "data": {
      "text/plain": [
       "list"
      ]
     },
     "execution_count": 56,
     "metadata": {},
     "output_type": "execute_result"
    }
   ],
   "source": [
    "type(info)"
   ]
  },
  {
   "cell_type": "code",
   "execution_count": 57,
   "id": "b0b7a2ab",
   "metadata": {},
   "outputs": [
    {
     "data": {
      "text/plain": [
       "4"
      ]
     },
     "execution_count": 57,
     "metadata": {},
     "output_type": "execute_result"
    }
   ],
   "source": [
    "len(info)"
   ]
  },
  {
   "cell_type": "code",
   "execution_count": 58,
   "id": "6d03107c",
   "metadata": {},
   "outputs": [
    {
     "data": {
      "text/plain": [
       "True"
      ]
     },
     "execution_count": 58,
     "metadata": {},
     "output_type": "execute_result"
    }
   ],
   "source": [
    "'python' in info"
   ]
  },
  {
   "cell_type": "code",
   "execution_count": 59,
   "id": "a535bdc3",
   "metadata": {},
   "outputs": [
    {
     "data": {
      "text/plain": [
       "False"
      ]
     },
     "execution_count": 59,
     "metadata": {},
     "output_type": "execute_result"
    }
   ],
   "source": [
    "'ExcelR'in info"
   ]
  },
  {
   "cell_type": "code",
   "execution_count": 60,
   "id": "6bddf656",
   "metadata": {},
   "outputs": [],
   "source": [
    "num=[1,2,3,5,5,6,7]"
   ]
  },
  {
   "cell_type": "code",
   "execution_count": 61,
   "id": "5ef87e23",
   "metadata": {},
   "outputs": [
    {
     "data": {
      "text/plain": [
       "7"
      ]
     },
     "execution_count": 61,
     "metadata": {},
     "output_type": "execute_result"
    }
   ],
   "source": [
    "len(num)"
   ]
  },
  {
   "cell_type": "code",
   "execution_count": 62,
   "id": "d83779d1",
   "metadata": {},
   "outputs": [
    {
     "data": {
      "text/plain": [
       "1"
      ]
     },
     "execution_count": 62,
     "metadata": {},
     "output_type": "execute_result"
    }
   ],
   "source": [
    "min(num)"
   ]
  },
  {
   "cell_type": "code",
   "execution_count": 63,
   "id": "39d31c89",
   "metadata": {},
   "outputs": [
    {
     "data": {
      "text/plain": [
       "7"
      ]
     },
     "execution_count": 63,
     "metadata": {},
     "output_type": "execute_result"
    }
   ],
   "source": [
    "max(num)"
   ]
  },
  {
   "cell_type": "code",
   "execution_count": 64,
   "id": "7b891fd9",
   "metadata": {},
   "outputs": [
    {
     "data": {
      "text/plain": [
       "29"
      ]
     },
     "execution_count": 64,
     "metadata": {},
     "output_type": "execute_result"
    }
   ],
   "source": [
    "sum(num)"
   ]
  },
  {
   "cell_type": "code",
   "execution_count": 65,
   "id": "f0a92916",
   "metadata": {},
   "outputs": [
    {
     "data": {
      "text/plain": [
       "4.142857142857143"
      ]
     },
     "execution_count": 65,
     "metadata": {},
     "output_type": "execute_result"
    }
   ],
   "source": [
    "sum(num)/len(num)"
   ]
  },
  {
   "cell_type": "code",
   "execution_count": 66,
   "id": "ccd26fc0",
   "metadata": {},
   "outputs": [],
   "source": [
    "#works when all the values are numerical"
   ]
  },
  {
   "cell_type": "code",
   "execution_count": 67,
   "id": "b76c0236",
   "metadata": {},
   "outputs": [],
   "source": [
    "nums=[1,2,3,4,5]"
   ]
  },
  {
   "cell_type": "code",
   "execution_count": 68,
   "id": "858627d0",
   "metadata": {},
   "outputs": [
    {
     "data": {
      "text/plain": [
       "[1, 2, 3, 4, 5]"
      ]
     },
     "execution_count": 68,
     "metadata": {},
     "output_type": "execute_result"
    }
   ],
   "source": [
    "nums"
   ]
  },
  {
   "cell_type": "code",
   "execution_count": 69,
   "id": "10a12954",
   "metadata": {},
   "outputs": [],
   "source": [
    "#adding value in list"
   ]
  },
  {
   "cell_type": "code",
   "execution_count": 70,
   "id": "69f98a33",
   "metadata": {},
   "outputs": [],
   "source": [
    "nums.append(6)"
   ]
  },
  {
   "cell_type": "code",
   "execution_count": 71,
   "id": "2ba93d85",
   "metadata": {},
   "outputs": [
    {
     "data": {
      "text/plain": [
       "[1, 2, 3, 4, 5, 6]"
      ]
     },
     "execution_count": 71,
     "metadata": {},
     "output_type": "execute_result"
    }
   ],
   "source": [
    "nums"
   ]
  },
  {
   "cell_type": "code",
   "execution_count": 72,
   "id": "92f0369b",
   "metadata": {},
   "outputs": [],
   "source": [
    "nums.append('python')"
   ]
  },
  {
   "cell_type": "code",
   "execution_count": 73,
   "id": "903be41e",
   "metadata": {},
   "outputs": [
    {
     "data": {
      "text/plain": [
       "[1, 2, 3, 4, 5, 6, 'python']"
      ]
     },
     "execution_count": 73,
     "metadata": {},
     "output_type": "execute_result"
    }
   ],
   "source": [
    "nums"
   ]
  },
  {
   "cell_type": "code",
   "execution_count": 74,
   "id": "a09ac431",
   "metadata": {},
   "outputs": [
    {
     "ename": "TypeError",
     "evalue": "list.append() takes exactly one argument (3 given)",
     "output_type": "error",
     "traceback": [
      "\u001b[1;31m---------------------------------------------------------------------------\u001b[0m",
      "\u001b[1;31mTypeError\u001b[0m                                 Traceback (most recent call last)",
      "Input \u001b[1;32mIn [74]\u001b[0m, in \u001b[0;36m<cell line: 1>\u001b[1;34m()\u001b[0m\n\u001b[1;32m----> 1\u001b[0m \u001b[43mnums\u001b[49m\u001b[38;5;241;43m.\u001b[39;49m\u001b[43mappend\u001b[49m\u001b[43m(\u001b[49m\u001b[38;5;124;43m'\u001b[39;49m\u001b[38;5;124;43m14\u001b[39;49m\u001b[38;5;124;43m'\u001b[39;49m\u001b[43m,\u001b[49m\u001b[38;5;124;43m'\u001b[39;49m\u001b[38;5;124;43mjune\u001b[39;49m\u001b[38;5;124;43m'\u001b[39;49m\u001b[43m,\u001b[49m\u001b[38;5;124;43m'\u001b[39;49m\u001b[38;5;124;43m2022\u001b[39;49m\u001b[38;5;124;43m'\u001b[39;49m\u001b[43m)\u001b[49m\n",
      "\u001b[1;31mTypeError\u001b[0m: list.append() takes exactly one argument (3 given)"
     ]
    }
   ],
   "source": [
    "nums.append('14','june','2022')"
   ]
  },
  {
   "cell_type": "code",
   "execution_count": 75,
   "id": "53713bdf",
   "metadata": {},
   "outputs": [],
   "source": [
    "nums.append(['14','june','2022'])"
   ]
  },
  {
   "cell_type": "code",
   "execution_count": 76,
   "id": "458ab17f",
   "metadata": {},
   "outputs": [
    {
     "data": {
      "text/plain": [
       "[1, 2, 3, 4, 5, 6, 'python', ['14', 'june', '2022']]"
      ]
     },
     "execution_count": 76,
     "metadata": {},
     "output_type": "execute_result"
    }
   ],
   "source": [
    "nums"
   ]
  },
  {
   "cell_type": "code",
   "execution_count": 77,
   "id": "9f772d91",
   "metadata": {},
   "outputs": [
    {
     "data": {
      "text/plain": [
       "['14', 'june', '2022']"
      ]
     },
     "execution_count": 77,
     "metadata": {},
     "output_type": "execute_result"
    }
   ],
   "source": [
    "nums[-1]"
   ]
  },
  {
   "cell_type": "code",
   "execution_count": 78,
   "id": "45992399",
   "metadata": {},
   "outputs": [],
   "source": [
    "#extend"
   ]
  },
  {
   "cell_type": "code",
   "execution_count": 79,
   "id": "cbea9c43",
   "metadata": {},
   "outputs": [],
   "source": [
    "nums.extend(['chennai','Bengaluru','iskon'])"
   ]
  },
  {
   "cell_type": "code",
   "execution_count": 81,
   "id": "1d38d5ba",
   "metadata": {},
   "outputs": [
    {
     "name": "stdout",
     "output_type": "stream",
     "text": [
      "[1, 2, 3, 4, 5, 6, 'python', ['14', 'june', '2022'], 'chennai', 'Bengaluru', 'iskon']\n"
     ]
    }
   ],
   "source": [
    "print(nums)"
   ]
  },
  {
   "cell_type": "code",
   "execution_count": 83,
   "id": "12456677",
   "metadata": {},
   "outputs": [
    {
     "data": {
      "text/plain": [
       "'iskon'"
      ]
     },
     "execution_count": 83,
     "metadata": {},
     "output_type": "execute_result"
    }
   ],
   "source": [
    "nums[-1]"
   ]
  },
  {
   "cell_type": "code",
   "execution_count": 84,
   "id": "863f417b",
   "metadata": {},
   "outputs": [
    {
     "data": {
      "text/plain": [
       "'Bengaluru'"
      ]
     },
     "execution_count": 84,
     "metadata": {},
     "output_type": "execute_result"
    }
   ],
   "source": [
    "nums[-2]"
   ]
  },
  {
   "cell_type": "code",
   "execution_count": 85,
   "id": "7d40d9c0",
   "metadata": {},
   "outputs": [
    {
     "data": {
      "text/plain": [
       "'chennai'"
      ]
     },
     "execution_count": 85,
     "metadata": {},
     "output_type": "execute_result"
    }
   ],
   "source": [
    "nums[-3]"
   ]
  },
  {
   "cell_type": "code",
   "execution_count": 90,
   "id": "9828ed1e",
   "metadata": {},
   "outputs": [],
   "source": [
    "#nums.insert(where,what)\n",
    "\n",
    "nums.insert(0,'excelr')"
   ]
  },
  {
   "cell_type": "code",
   "execution_count": 91,
   "id": "52aaed4a",
   "metadata": {},
   "outputs": [
    {
     "name": "stdout",
     "output_type": "stream",
     "text": [
      "['excelr', 1, 2, 3, 4, 5, 6, 'python', ['14', 'june', '2022'], 'chennai', 'Bengaluru', 'iskon']\n"
     ]
    }
   ],
   "source": [
    "print(nums)"
   ]
  },
  {
   "cell_type": "code",
   "execution_count": 93,
   "id": "ca0128e2",
   "metadata": {},
   "outputs": [],
   "source": [
    "nums.insert(14,'Palani')"
   ]
  },
  {
   "cell_type": "code",
   "execution_count": 94,
   "id": "ea01d66d",
   "metadata": {},
   "outputs": [
    {
     "data": {
      "text/plain": [
       "['excelr',\n",
       " 1,\n",
       " 2,\n",
       " 3,\n",
       " 4,\n",
       " 5,\n",
       " 6,\n",
       " 'python',\n",
       " ['14', 'june', '2022'],\n",
       " 'chennai',\n",
       " 'Bengaluru',\n",
       " 'iskon',\n",
       " 'Palani']"
      ]
     },
     "execution_count": 94,
     "metadata": {},
     "output_type": "execute_result"
    }
   ],
   "source": [
    "nums"
   ]
  },
  {
   "cell_type": "code",
   "execution_count": 96,
   "id": "0669f74c",
   "metadata": {},
   "outputs": [],
   "source": [
    "nums.insert(-3,\"goof\")"
   ]
  },
  {
   "cell_type": "code",
   "execution_count": 97,
   "id": "dd48d3d4",
   "metadata": {},
   "outputs": [
    {
     "data": {
      "text/plain": [
       "['excelr',\n",
       " 1,\n",
       " 2,\n",
       " 3,\n",
       " 4,\n",
       " 5,\n",
       " 6,\n",
       " 'python',\n",
       " ['14', 'june', '2022'],\n",
       " 'chennai',\n",
       " 'goof',\n",
       " 'Bengaluru',\n",
       " 'iskon',\n",
       " 'Palani']"
      ]
     },
     "execution_count": 97,
     "metadata": {},
     "output_type": "execute_result"
    }
   ],
   "source": [
    "nums"
   ]
  },
  {
   "cell_type": "code",
   "execution_count": 100,
   "id": "85f31d9e",
   "metadata": {},
   "outputs": [],
   "source": [
    "#adding list into another list"
   ]
  },
  {
   "cell_type": "code",
   "execution_count": 101,
   "id": "032d8e47",
   "metadata": {},
   "outputs": [],
   "source": [
    "nums[8].insert(2,'Tuesday')"
   ]
  },
  {
   "cell_type": "code",
   "execution_count": 102,
   "id": "e2fb1c3a",
   "metadata": {},
   "outputs": [
    {
     "name": "stdout",
     "output_type": "stream",
     "text": [
      "['excelr', 1, 2, 3, 4, 5, 6, 'python', ['14', 'june', 'Tuesday', 'Tuesday', '2022'], 'chennai', 'goof', 'Bengaluru', 'iskon', 'Palani']\n"
     ]
    }
   ],
   "source": [
    "print(nums)"
   ]
  },
  {
   "cell_type": "code",
   "execution_count": 103,
   "id": "77db0169",
   "metadata": {},
   "outputs": [],
   "source": [
    "#remove,pop"
   ]
  },
  {
   "cell_type": "code",
   "execution_count": 104,
   "id": "9cd6397c",
   "metadata": {},
   "outputs": [],
   "source": [
    "nums.remove('chennai')"
   ]
  },
  {
   "cell_type": "code",
   "execution_count": 105,
   "id": "73d3f66a",
   "metadata": {},
   "outputs": [
    {
     "name": "stdout",
     "output_type": "stream",
     "text": [
      "['excelr', 1, 2, 3, 4, 5, 6, 'python', ['14', 'june', 'Tuesday', 'Tuesday', '2022'], 'goof', 'Bengaluru', 'iskon', 'Palani']\n"
     ]
    }
   ],
   "source": [
    "print(nums)"
   ]
  },
  {
   "cell_type": "code",
   "execution_count": 106,
   "id": "d8191623",
   "metadata": {},
   "outputs": [
    {
     "data": {
      "text/plain": [
       "6"
      ]
     },
     "execution_count": 106,
     "metadata": {},
     "output_type": "execute_result"
    }
   ],
   "source": [
    "nums.pop(6)"
   ]
  },
  {
   "cell_type": "code",
   "execution_count": 107,
   "id": "912d1846",
   "metadata": {},
   "outputs": [
    {
     "name": "stdout",
     "output_type": "stream",
     "text": [
      "['excelr', 1, 2, 3, 4, 5, 'python', ['14', 'june', 'Tuesday', 'Tuesday', '2022'], 'goof', 'Bengaluru', 'iskon', 'Palani']\n"
     ]
    }
   ],
   "source": [
    "print(nums)"
   ]
  },
  {
   "cell_type": "code",
   "execution_count": 108,
   "id": "a964e29c",
   "metadata": {},
   "outputs": [
    {
     "data": {
      "text/plain": [
       "'excelr'"
      ]
     },
     "execution_count": 108,
     "metadata": {},
     "output_type": "execute_result"
    }
   ],
   "source": [
    "nums.pop(0)"
   ]
  },
  {
   "cell_type": "code",
   "execution_count": 109,
   "id": "36bd51c0",
   "metadata": {},
   "outputs": [
    {
     "data": {
      "text/plain": [
       "'Palani'"
      ]
     },
     "execution_count": 109,
     "metadata": {},
     "output_type": "execute_result"
    }
   ],
   "source": [
    "nums.pop()"
   ]
  },
  {
   "cell_type": "code",
   "execution_count": 110,
   "id": "ee5daa10",
   "metadata": {},
   "outputs": [
    {
     "data": {
      "text/plain": [
       "'iskon'"
      ]
     },
     "execution_count": 110,
     "metadata": {},
     "output_type": "execute_result"
    }
   ],
   "source": [
    "nums.pop()"
   ]
  },
  {
   "cell_type": "code",
   "execution_count": 111,
   "id": "b2adb4be",
   "metadata": {},
   "outputs": [
    {
     "name": "stdout",
     "output_type": "stream",
     "text": [
      "Help on built-in function pop:\n",
      "\n",
      "pop(index=-1, /) method of builtins.list instance\n",
      "    Remove and return item at index (default last).\n",
      "    \n",
      "    Raises IndexError if list is empty or index is out of range.\n",
      "\n"
     ]
    }
   ],
   "source": [
    "help(nums.pop)"
   ]
  },
  {
   "cell_type": "code",
   "execution_count": 112,
   "id": "1a4a9c33",
   "metadata": {},
   "outputs": [],
   "source": [
    "nums.append('bfd')"
   ]
  },
  {
   "cell_type": "code",
   "execution_count": 113,
   "id": "68031808",
   "metadata": {},
   "outputs": [
    {
     "name": "stdout",
     "output_type": "stream",
     "text": [
      "[1, 2, 3, 4, 5, 'python', ['14', 'june', 'Tuesday', 'Tuesday', '2022'], 'goof', 'Bengaluru', 'bfd']\n"
     ]
    }
   ],
   "source": [
    "print(nums)"
   ]
  },
  {
   "cell_type": "code",
   "execution_count": 114,
   "id": "f81cf24a",
   "metadata": {},
   "outputs": [],
   "source": [
    "for x in ['Bengaluru','bfd']:\n",
    "    nums.remove(x)"
   ]
  },
  {
   "cell_type": "code",
   "execution_count": 115,
   "id": "25c5db27",
   "metadata": {},
   "outputs": [
    {
     "name": "stdout",
     "output_type": "stream",
     "text": [
      "[1, 2, 3, 4, 5, 'python', ['14', 'june', 'Tuesday', 'Tuesday', '2022'], 'goof']\n"
     ]
    }
   ],
   "source": [
    "print(nums)"
   ]
  },
  {
   "cell_type": "code",
   "execution_count": 116,
   "id": "3ca960f7",
   "metadata": {},
   "outputs": [],
   "source": [
    "nums=[1,4,5,6,8,99,100]"
   ]
  },
  {
   "cell_type": "code",
   "execution_count": 117,
   "id": "93d0878f",
   "metadata": {},
   "outputs": [],
   "source": [
    "nums.reverse()"
   ]
  },
  {
   "cell_type": "code",
   "execution_count": 118,
   "id": "4c1340e9",
   "metadata": {},
   "outputs": [
    {
     "name": "stdout",
     "output_type": "stream",
     "text": [
      "[100, 99, 8, 6, 5, 4, 1]\n"
     ]
    }
   ],
   "source": [
    "print(nums)"
   ]
  },
  {
   "cell_type": "code",
   "execution_count": 119,
   "id": "f9be97f6",
   "metadata": {},
   "outputs": [],
   "source": [
    "nums.sort()"
   ]
  },
  {
   "cell_type": "code",
   "execution_count": 120,
   "id": "f894046e",
   "metadata": {},
   "outputs": [
    {
     "name": "stdout",
     "output_type": "stream",
     "text": [
      "[1, 4, 5, 6, 8, 99, 100]\n"
     ]
    }
   ],
   "source": [
    "print(nums)"
   ]
  },
  {
   "cell_type": "code",
   "execution_count": 121,
   "id": "5b384598",
   "metadata": {},
   "outputs": [],
   "source": [
    "nums.sort(reverse=True)"
   ]
  },
  {
   "cell_type": "code",
   "execution_count": 122,
   "id": "37496c72",
   "metadata": {},
   "outputs": [
    {
     "name": "stdout",
     "output_type": "stream",
     "text": [
      "[100, 99, 8, 6, 5, 4, 1]\n"
     ]
    }
   ],
   "source": [
    "print(nums)"
   ]
  },
  {
   "cell_type": "code",
   "execution_count": 123,
   "id": "8d9448fe",
   "metadata": {},
   "outputs": [],
   "source": [
    "#append extend insert remove pop reverse sort\n",
    "#copy clear count index"
   ]
  },
  {
   "cell_type": "code",
   "execution_count": 124,
   "id": "688f60f8",
   "metadata": {},
   "outputs": [
    {
     "data": {
      "text/plain": [
       "[100, 99, 8, 6, 5, 4, 1]"
      ]
     },
     "execution_count": 124,
     "metadata": {},
     "output_type": "execute_result"
    }
   ],
   "source": [
    "nums"
   ]
  },
  {
   "cell_type": "code",
   "execution_count": 125,
   "id": "48b4428d",
   "metadata": {},
   "outputs": [
    {
     "data": {
      "text/plain": [
       "5"
      ]
     },
     "execution_count": 125,
     "metadata": {},
     "output_type": "execute_result"
    }
   ],
   "source": [
    "nums.index(4)"
   ]
  },
  {
   "cell_type": "code",
   "execution_count": 126,
   "id": "32ef089a",
   "metadata": {},
   "outputs": [
    {
     "data": {
      "text/plain": [
       "1"
      ]
     },
     "execution_count": 126,
     "metadata": {},
     "output_type": "execute_result"
    }
   ],
   "source": [
    "nums.count(4)"
   ]
  },
  {
   "cell_type": "code",
   "execution_count": 127,
   "id": "ca259097",
   "metadata": {},
   "outputs": [],
   "source": [
    "#copy clear"
   ]
  },
  {
   "cell_type": "code",
   "execution_count": 128,
   "id": "e53f80f6",
   "metadata": {},
   "outputs": [],
   "source": [
    "nums.clear()"
   ]
  },
  {
   "cell_type": "code",
   "execution_count": 129,
   "id": "fe0698ca",
   "metadata": {},
   "outputs": [
    {
     "name": "stdout",
     "output_type": "stream",
     "text": [
      "[]\n"
     ]
    }
   ],
   "source": [
    "print(nums)"
   ]
  },
  {
   "cell_type": "code",
   "execution_count": 130,
   "id": "77132313",
   "metadata": {},
   "outputs": [],
   "source": [
    "#copy"
   ]
  },
  {
   "cell_type": "code",
   "execution_count": 131,
   "id": "71bf8b2b",
   "metadata": {},
   "outputs": [],
   "source": [
    "#Differnce between shallow copy and deep copy"
   ]
  },
  {
   "cell_type": "code",
   "execution_count": 2,
   "id": "0ad0ddc3",
   "metadata": {},
   "outputs": [],
   "source": [
    "nums=[1,2,3,4,5]"
   ]
  },
  {
   "cell_type": "code",
   "execution_count": 3,
   "id": "391596c0",
   "metadata": {},
   "outputs": [],
   "source": [
    "nums_backup=nums"
   ]
  },
  {
   "cell_type": "code",
   "execution_count": 4,
   "id": "c917d64b",
   "metadata": {},
   "outputs": [
    {
     "data": {
      "text/plain": [
       "[1, 2, 3, 4, 5]"
      ]
     },
     "execution_count": 4,
     "metadata": {},
     "output_type": "execute_result"
    }
   ],
   "source": [
    "nums_backup"
   ]
  },
  {
   "cell_type": "code",
   "execution_count": 5,
   "id": "f79697de",
   "metadata": {},
   "outputs": [],
   "source": [
    "nums.extend([100,200,300])"
   ]
  },
  {
   "cell_type": "code",
   "execution_count": 6,
   "id": "c97c14ce",
   "metadata": {},
   "outputs": [
    {
     "data": {
      "text/plain": [
       "[1, 2, 3, 4, 5, 100, 200, 300]"
      ]
     },
     "execution_count": 6,
     "metadata": {},
     "output_type": "execute_result"
    }
   ],
   "source": [
    "nums"
   ]
  },
  {
   "cell_type": "code",
   "execution_count": 7,
   "id": "66f890cd",
   "metadata": {},
   "outputs": [
    {
     "data": {
      "text/plain": [
       "[1, 2, 3, 4, 5, 100, 200, 300]"
      ]
     },
     "execution_count": 7,
     "metadata": {},
     "output_type": "execute_result"
    }
   ],
   "source": [
    "nums_backup"
   ]
  },
  {
   "cell_type": "code",
   "execution_count": 8,
   "id": "f55f5bc0",
   "metadata": {},
   "outputs": [
    {
     "data": {
      "text/plain": [
       "1779626561408"
      ]
     },
     "execution_count": 8,
     "metadata": {},
     "output_type": "execute_result"
    }
   ],
   "source": [
    "id(nums)"
   ]
  },
  {
   "cell_type": "code",
   "execution_count": 9,
   "id": "f561ad27",
   "metadata": {},
   "outputs": [
    {
     "data": {
      "text/plain": [
       "1779626561408"
      ]
     },
     "execution_count": 9,
     "metadata": {},
     "output_type": "execute_result"
    }
   ],
   "source": [
    "id(nums_backup)"
   ]
  },
  {
   "cell_type": "code",
   "execution_count": 10,
   "id": "da338984",
   "metadata": {},
   "outputs": [],
   "source": [
    "#id remains the same\n"
   ]
  },
  {
   "cell_type": "code",
   "execution_count": 12,
   "id": "7d66d910",
   "metadata": {},
   "outputs": [],
   "source": [
    "ages=[20,25,35]"
   ]
  },
  {
   "cell_type": "code",
   "execution_count": 13,
   "id": "2fa782a5",
   "metadata": {},
   "outputs": [],
   "source": [
    "ages_copy=ages"
   ]
  },
  {
   "cell_type": "code",
   "execution_count": 14,
   "id": "81190c18",
   "metadata": {},
   "outputs": [
    {
     "data": {
      "text/plain": [
       "[20, 25, 35]"
      ]
     },
     "execution_count": 14,
     "metadata": {},
     "output_type": "execute_result"
    }
   ],
   "source": [
    "ages_copy"
   ]
  },
  {
   "cell_type": "code",
   "execution_count": 15,
   "id": "28197453",
   "metadata": {},
   "outputs": [],
   "source": [
    "ages.append(45)"
   ]
  },
  {
   "cell_type": "code",
   "execution_count": 17,
   "id": "3dd3e2cf",
   "metadata": {},
   "outputs": [
    {
     "data": {
      "text/plain": [
       "[20, 25, 35, 45]"
      ]
     },
     "execution_count": 17,
     "metadata": {},
     "output_type": "execute_result"
    }
   ],
   "source": [
    "ages_copy"
   ]
  },
  {
   "cell_type": "code",
   "execution_count": null,
   "id": "f3af12e6",
   "metadata": {},
   "outputs": [],
   "source": []
  },
  {
   "cell_type": "code",
   "execution_count": null,
   "id": "1b8e9126",
   "metadata": {},
   "outputs": [],
   "source": []
  },
  {
   "cell_type": "code",
   "execution_count": null,
   "id": "66268207",
   "metadata": {},
   "outputs": [],
   "source": []
  },
  {
   "cell_type": "code",
   "execution_count": null,
   "id": "112de3aa",
   "metadata": {},
   "outputs": [],
   "source": []
  },
  {
   "cell_type": "code",
   "execution_count": null,
   "id": "1b52a7c6",
   "metadata": {},
   "outputs": [],
   "source": []
  },
  {
   "cell_type": "code",
   "execution_count": 18,
   "id": "95ddbc5a",
   "metadata": {},
   "outputs": [],
   "source": [
    "#shallow vs deep"
   ]
  },
  {
   "cell_type": "code",
   "execution_count": null,
   "id": "6afe702d",
   "metadata": {},
   "outputs": [],
   "source": []
  }
 ],
 "metadata": {
  "kernelspec": {
   "display_name": "Python 3 (ipykernel)",
   "language": "python",
   "name": "python3"
  },
  "language_info": {
   "codemirror_mode": {
    "name": "ipython",
    "version": 3
   },
   "file_extension": ".py",
   "mimetype": "text/x-python",
   "name": "python",
   "nbconvert_exporter": "python",
   "pygments_lexer": "ipython3",
   "version": "3.9.2"
  }
 },
 "nbformat": 4,
 "nbformat_minor": 5
}

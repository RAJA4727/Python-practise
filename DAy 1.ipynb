{
 "cells": [
  {
   "cell_type": "code",
   "execution_count": 7,
   "id": "96aa1668",
   "metadata": {},
   "outputs": [
    {
     "data": {
      "text/plain": [
       "11"
      ]
     },
     "execution_count": 7,
     "metadata": {},
     "output_type": "execute_result"
    }
   ],
   "source": [
    "5+6 #Run creates new shell after execution"
   ]
  },
  {
   "cell_type": "code",
   "execution_count": 8,
   "id": "c2ed4c8e",
   "metadata": {},
   "outputs": [
    {
     "data": {
      "text/plain": [
       "45"
      ]
     },
     "execution_count": 8,
     "metadata": {},
     "output_type": "execute_result"
    }
   ],
   "source": [
    "5*9 # shift + enter creates new shell after execution"
   ]
  },
  {
   "cell_type": "code",
   "execution_count": 9,
   "id": "026c44d3",
   "metadata": {},
   "outputs": [
    {
     "data": {
      "text/plain": [
       "-1"
      ]
     },
     "execution_count": 9,
     "metadata": {},
     "output_type": "execute_result"
    }
   ],
   "source": [
    "8-9# ctlr + enter"
   ]
  },
  {
   "cell_type": "markdown",
   "id": "5ab3832e",
   "metadata": {},
   "source": [
    "# Comment"
   ]
  },
  {
   "cell_type": "code",
   "execution_count": 10,
   "id": "c530f999",
   "metadata": {},
   "outputs": [
    {
     "data": {
      "text/plain": [
       "7"
      ]
     },
     "execution_count": 10,
     "metadata": {},
     "output_type": "execute_result"
    }
   ],
   "source": [
    "# Single line comment\n",
    "\n",
    "# adding 2 nos\n",
    "\n",
    "5+2"
   ]
  },
  {
   "cell_type": "code",
   "execution_count": 12,
   "id": "aeb56812",
   "metadata": {},
   "outputs": [],
   "source": [
    "#Multi line comments\n",
    "\n",
    "# '''\n",
    "# line 1\n",
    "# line 2\n",
    "# line 3\n",
    "# line 4\n",
    "# '''"
   ]
  },
  {
   "cell_type": "code",
   "execution_count": 13,
   "id": "657430ee",
   "metadata": {},
   "outputs": [
    {
     "data": {
      "text/plain": [
       "'\\n\\'\\n\"\\n'"
      ]
     },
     "execution_count": 13,
     "metadata": {},
     "output_type": "execute_result"
    }
   ],
   "source": [
    "'''\n",
    "'\n",
    "\"\n",
    "'''"
   ]
  },
  {
   "cell_type": "code",
   "execution_count": 14,
   "id": "dc622835",
   "metadata": {},
   "outputs": [],
   "source": [
    "name ='Raja'"
   ]
  },
  {
   "cell_type": "code",
   "execution_count": 15,
   "id": "e238d4e4",
   "metadata": {},
   "outputs": [
    {
     "name": "stdout",
     "output_type": "stream",
     "text": [
      "Raja\n"
     ]
    }
   ],
   "source": [
    "print(name)"
   ]
  },
  {
   "cell_type": "code",
   "execution_count": 16,
   "id": "0f342fff",
   "metadata": {},
   "outputs": [],
   "source": [
    "name =\"Raja\""
   ]
  },
  {
   "cell_type": "code",
   "execution_count": 17,
   "id": "96cf292c",
   "metadata": {},
   "outputs": [
    {
     "name": "stdout",
     "output_type": "stream",
     "text": [
      "Raja\n"
     ]
    }
   ],
   "source": [
    "print(name)"
   ]
  },
  {
   "cell_type": "code",
   "execution_count": 18,
   "id": "a227fc41",
   "metadata": {},
   "outputs": [
    {
     "ename": "SyntaxError",
     "evalue": "invalid syntax (2231246652.py, line 1)",
     "output_type": "error",
     "traceback": [
      "\u001b[1;36m  Input \u001b[1;32mIn [18]\u001b[1;36m\u001b[0m\n\u001b[1;33m    clg=st's John'\u001b[0m\n\u001b[1;37m          ^\u001b[0m\n\u001b[1;31mSyntaxError\u001b[0m\u001b[1;31m:\u001b[0m invalid syntax\n"
     ]
    }
   ],
   "source": [
    "clg=st's John'"
   ]
  },
  {
   "cell_type": "code",
   "execution_count": 19,
   "id": "cf84b5e7",
   "metadata": {},
   "outputs": [],
   "source": [
    "clg=\"st's John\""
   ]
  },
  {
   "cell_type": "code",
   "execution_count": 20,
   "id": "10a20604",
   "metadata": {},
   "outputs": [
    {
     "name": "stdout",
     "output_type": "stream",
     "text": [
      "st's John\n"
     ]
    }
   ],
   "source": [
    "print(clg)"
   ]
  },
  {
   "cell_type": "code",
   "execution_count": 23,
   "id": "9c162384",
   "metadata": {},
   "outputs": [],
   "source": [
    "clg='st\\'s John'"
   ]
  },
  {
   "cell_type": "code",
   "execution_count": 24,
   "id": "6490949c",
   "metadata": {},
   "outputs": [
    {
     "name": "stdout",
     "output_type": "stream",
     "text": [
      "st's John\n"
     ]
    }
   ],
   "source": [
    "print(clg)"
   ]
  },
  {
   "cell_type": "code",
   "execution_count": 25,
   "id": "6fdf330d",
   "metadata": {},
   "outputs": [],
   "source": [
    "about='''Raja is working in Molex.He is working as as Product specialist and he also handle so many projects currently.\n",
    "he '''"
   ]
  },
  {
   "cell_type": "code",
   "execution_count": 26,
   "id": "6624ca26",
   "metadata": {},
   "outputs": [
    {
     "name": "stdout",
     "output_type": "stream",
     "text": [
      "Raja is working in Molex.He is working as as Product specialist and he also handle so many projects currently.\n",
      "he \n"
     ]
    }
   ],
   "source": [
    "print(about)"
   ]
  },
  {
   "cell_type": "markdown",
   "id": "e7d63592",
   "metadata": {},
   "source": [
    "# control statements"
   ]
  },
  {
   "cell_type": "code",
   "execution_count": 27,
   "id": "2d94d08c",
   "metadata": {},
   "outputs": [
    {
     "ename": "SyntaxError",
     "evalue": "invalid syntax (2818528764.py, line 1)",
     "output_type": "error",
     "traceback": [
      "\u001b[1;36m  Input \u001b[1;32mIn [27]\u001b[1;36m\u001b[0m\n\u001b[1;33m    if cond\u001b[0m\n\u001b[1;37m           ^\u001b[0m\n\u001b[1;31mSyntaxError\u001b[0m\u001b[1;31m:\u001b[0m invalid syntax\n"
     ]
    }
   ],
   "source": [
    "if cond\n",
    " statement\n",
    "else\n",
    " statement"
   ]
  },
  {
   "cell_type": "code",
   "execution_count": 40,
   "id": "775c8ee2",
   "metadata": {},
   "outputs": [],
   "source": [
    "x=0"
   ]
  },
  {
   "cell_type": "code",
   "execution_count": 41,
   "id": "fcc8b5c5",
   "metadata": {},
   "outputs": [
    {
     "name": "stdout",
     "output_type": "stream",
     "text": [
      "U r just born\n"
     ]
    }
   ],
   "source": [
    "if x>20:\n",
    "    print(\"U can vote\")\n",
    "elif x<0 or x>100:\n",
    "    print(\"Invalid\")\n",
    "elif x==0:\n",
    "    print(\"U r just born\")\n",
    "else:\n",
    "    print(\"U cannot vote\")\n"
   ]
  },
  {
   "cell_type": "code",
   "execution_count": 55,
   "id": "4891687e",
   "metadata": {},
   "outputs": [],
   "source": [
    "age=28\n",
    "country=\"singapore\""
   ]
  },
  {
   "cell_type": "code",
   "execution_count": 56,
   "id": "6818e390",
   "metadata": {},
   "outputs": [
    {
     "name": "stdout",
     "output_type": "stream",
     "text": [
      "follow ur country:singaporestd\n"
     ]
    }
   ],
   "source": [
    "if country=='India':\n",
    "    if age>18:\n",
    "        print(\"you can vote\")\n",
    "    else:\n",
    "        print(\"You cannot vote\")\n",
    "else:\n",
    "  print(\"follow ur country:{}std\".format(country))"
   ]
  },
  {
   "cell_type": "code",
   "execution_count": 57,
   "id": "30917b8d",
   "metadata": {},
   "outputs": [],
   "source": [
    "### Multiple if"
   ]
  },
  {
   "cell_type": "code",
   "execution_count": 60,
   "id": "9f305312",
   "metadata": {},
   "outputs": [
    {
     "name": "stdout",
     "output_type": "stream",
     "text": [
      "28\n",
      "executed another if\n"
     ]
    }
   ],
   "source": [
    "if age>18:\n",
    "    print(age)\n",
    "if age==28:\n",
    "    print(\"executed another if\")"
   ]
  },
  {
   "cell_type": "markdown",
   "id": "d2f00b08",
   "metadata": {},
   "source": [
    "# Day 2"
   ]
  },
  {
   "cell_type": "code",
   "execution_count": 1,
   "id": "d01d8797",
   "metadata": {},
   "outputs": [
    {
     "name": "stdout",
     "output_type": "stream",
     "text": [
      "Hello World\n"
     ]
    }
   ],
   "source": [
    "print(\"Hello World\")"
   ]
  },
  {
   "cell_type": "code",
   "execution_count": 3,
   "id": "57de3a6a",
   "metadata": {},
   "outputs": [],
   "source": [
    "name=\"Raja\""
   ]
  },
  {
   "cell_type": "code",
   "execution_count": 4,
   "id": "ce3d104f",
   "metadata": {},
   "outputs": [
    {
     "name": "stdout",
     "output_type": "stream",
     "text": [
      "the name is Raja\n"
     ]
    }
   ],
   "source": [
    "print (\"the name is\",name)"
   ]
  },
  {
   "cell_type": "markdown",
   "id": "7c53b0d4",
   "metadata": {},
   "source": [
    "# Different methods to print "
   ]
  },
  {
   "cell_type": "code",
   "execution_count": 6,
   "id": "fa2b0654",
   "metadata": {},
   "outputs": [
    {
     "name": "stdout",
     "output_type": "stream",
     "text": [
      "The name is Raja and his age is 27\n"
     ]
    }
   ],
   "source": [
    "name=\"Raja\"\n",
    "age=27\n",
    "\n",
    "#To print the name of RAja\n",
    "\n",
    "print(\"The name is\",name ,\"and his age is\",age)"
   ]
  },
  {
   "cell_type": "code",
   "execution_count": 7,
   "id": "2435305d",
   "metadata": {},
   "outputs": [
    {
     "name": "stdout",
     "output_type": "stream",
     "text": [
      "The name is Raja and his age is 27\n"
     ]
    }
   ],
   "source": [
    "print(\"The name is {} and his age is {}\".format(name,age))"
   ]
  },
  {
   "cell_type": "code",
   "execution_count": 8,
   "id": "035fad96",
   "metadata": {},
   "outputs": [
    {
     "name": "stdout",
     "output_type": "stream",
     "text": [
      "The name is {name} and his age is {27}\n"
     ]
    }
   ],
   "source": [
    "print(\"The name is {name} and his age is {27}\")"
   ]
  },
  {
   "cell_type": "code",
   "execution_count": 9,
   "id": "cc2e142e",
   "metadata": {},
   "outputs": [
    {
     "name": "stdout",
     "output_type": "stream",
     "text": [
      "The name is Raja and his age is 27\n"
     ]
    }
   ],
   "source": [
    "print(f\"The name is {name} and his age is {27}\")"
   ]
  },
  {
   "cell_type": "code",
   "execution_count": 10,
   "id": "88c3f8e9",
   "metadata": {},
   "outputs": [],
   "source": [
    "price=8.9876"
   ]
  },
  {
   "cell_type": "code",
   "execution_count": 11,
   "id": "d9fd1ddc",
   "metadata": {},
   "outputs": [
    {
     "data": {
      "text/plain": [
       "8.99"
      ]
     },
     "execution_count": 11,
     "metadata": {},
     "output_type": "execute_result"
    }
   ],
   "source": [
    "round(price,2)"
   ]
  },
  {
   "cell_type": "code",
   "execution_count": 12,
   "id": "c98bcef7",
   "metadata": {},
   "outputs": [
    {
     "name": "stdout",
     "output_type": "stream",
     "text": [
      "the price is 8.99\n"
     ]
    }
   ],
   "source": [
    "print(\"the price is {}\".format(round(price,2)))"
   ]
  },
  {
   "cell_type": "markdown",
   "id": "2434fe4a",
   "metadata": {},
   "source": [
    "# input function"
   ]
  },
  {
   "cell_type": "code",
   "execution_count": 18,
   "id": "b5779bbb",
   "metadata": {},
   "outputs": [
    {
     "name": "stdout",
     "output_type": "stream",
     "text": [
      "Enter your name RAja\n",
      "Enter your age27\n"
     ]
    }
   ],
   "source": [
    "name=input(\"Enter your name \")\n",
    "age=input(\"Enter your age\")"
   ]
  },
  {
   "cell_type": "code",
   "execution_count": 19,
   "id": "d47541b8",
   "metadata": {},
   "outputs": [
    {
     "name": "stdout",
     "output_type": "stream",
     "text": [
      "<class 'str'>\n"
     ]
    }
   ],
   "source": [
    "print(type(name))"
   ]
  },
  {
   "cell_type": "code",
   "execution_count": 21,
   "id": "2835a5f9",
   "metadata": {},
   "outputs": [
    {
     "name": "stdout",
     "output_type": "stream",
     "text": [
      "<class 'str'>\n"
     ]
    }
   ],
   "source": [
    "print(type(age))"
   ]
  },
  {
   "cell_type": "code",
   "execution_count": 22,
   "id": "eb3ab1b8",
   "metadata": {},
   "outputs": [
    {
     "name": "stdout",
     "output_type": "stream",
     "text": [
      "Enter your name Raja\n",
      "Enter your age37\n"
     ]
    }
   ],
   "source": [
    "name=input(\"Enter your name \")\n",
    "age=int(input(\"Enter your age\"))\n",
    "age=age+1"
   ]
  },
  {
   "cell_type": "code",
   "execution_count": 24,
   "id": "a110b90d",
   "metadata": {},
   "outputs": [
    {
     "name": "stdout",
     "output_type": "stream",
     "text": [
      "<class 'str'>\n",
      "<class 'int'>\n",
      "The age is 37\n"
     ]
    }
   ],
   "source": [
    "print(type(name))\n",
    "print(type(age))\n",
    "print(\"The age is\",age)"
   ]
  },
  {
   "cell_type": "markdown",
   "id": "910f3159",
   "metadata": {},
   "source": [
    "# Range function"
   ]
  },
  {
   "cell_type": "code",
   "execution_count": 27,
   "id": "25e1adbd",
   "metadata": {},
   "outputs": [
    {
     "name": "stdout",
     "output_type": "stream",
     "text": [
      "1 2 3 4 5 6 7 8 9 10 11 12 13 14 15 16 17 18 19 20 21 22 23 24 25 26 27 28 29 30 31 32 33 34 35 36 37 38 39 40 41 42 43 44 45 46 47 48 49 50 51 52 53 54 55 56 57 58 59 60 61 62 63 64 65 66 67 68 69 70 71 72 73 74 75 76 77 78 79 80 81 82 83 84 85 86 87 88 89 90 91 92 93 94 95 96 97 98 99 100 "
     ]
    }
   ],
   "source": [
    "for x in range(1,101):\n",
    "    print(x,end=' ')"
   ]
  },
  {
   "cell_type": "code",
   "execution_count": 28,
   "id": "6f9674a7",
   "metadata": {},
   "outputs": [
    {
     "name": "stdout",
     "output_type": "stream",
     "text": [
      "1 3 5 7 9 11 13 15 17 19 21 23 25 27 29 31 33 35 37 39 41 43 45 47 49 51 53 55 57 59 61 63 65 67 69 71 73 75 77 79 81 83 85 87 89 91 93 95 97 99 "
     ]
    }
   ],
   "source": [
    "for x in range(1,101,2):\n",
    "    print(x,end=' ')"
   ]
  },
  {
   "cell_type": "code",
   "execution_count": 29,
   "id": "f4ab6889",
   "metadata": {},
   "outputs": [
    {
     "name": "stdout",
     "output_type": "stream",
     "text": [
      "2 4 6 8 10 12 14 16 18 20 22 24 26 28 30 32 34 36 38 40 42 44 46 48 50 52 54 56 58 60 62 64 66 68 70 72 74 76 78 80 82 84 86 88 90 92 94 96 98 100 "
     ]
    }
   ],
   "source": [
    "for x in range(2,101,2):\n",
    "    print(x,end=' ')"
   ]
  },
  {
   "cell_type": "code",
   "execution_count": null,
   "id": "5f3615df",
   "metadata": {},
   "outputs": [],
   "source": []
  }
 ],
 "metadata": {
  "kernelspec": {
   "display_name": "Python 3 (ipykernel)",
   "language": "python",
   "name": "python3"
  },
  "language_info": {
   "codemirror_mode": {
    "name": "ipython",
    "version": 3
   },
   "file_extension": ".py",
   "mimetype": "text/x-python",
   "name": "python",
   "nbconvert_exporter": "python",
   "pygments_lexer": "ipython3",
   "version": "3.9.2"
  }
 },
 "nbformat": 4,
 "nbformat_minor": 5
}
